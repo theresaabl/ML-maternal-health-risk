{
  "cells": [
    {
      "cell_type": "markdown",
      "metadata": {
        "id": "0aStgWSO0E0E"
      },
      "source": [
        "# **Data Cleaning**"
      ]
    },
    {
      "cell_type": "markdown",
      "metadata": {
        "id": "1eLEkw5O0ECa"
      },
      "source": [
        "## Objectives\n",
        "\n",
        "* Clean data\n",
        "* Split into train and test set\n",
        "  \n",
        "## Inputs\n",
        "\n",
        "* The maternal health dataset from outputs/datasets/collection/maternal-healt-dataset.csv\n",
        "\n",
        "## Outputs\n",
        "\n",
        "* Generate cleaned train and test sets and save to outputs/datasets/cleaned"
      ]
    },
    {
      "cell_type": "markdown",
      "metadata": {
        "id": "9uWZXH9LwoQg"
      },
      "source": [
        "---"
      ]
    },
    {
      "cell_type": "markdown",
      "metadata": {},
      "source": [
        "# Import Packages for Data Collection"
      ]
    },
    {
      "cell_type": "code",
      "execution_count": 2,
      "metadata": {},
      "outputs": [],
      "source": [
        "import os\n",
        "import numpy as np\n",
        "import pandas as pd\n",
        "import seaborn as sns\n",
        "import matplotlib.pyplot as plt\n",
        "import ppscore as pps\n",
        "\n",
        "%matplotlib inline"
      ]
    },
    {
      "cell_type": "markdown",
      "metadata": {},
      "source": [
        "# Change working directory"
      ]
    },
    {
      "cell_type": "markdown",
      "metadata": {},
      "source": [
        "We need to change the working directory from its current folder to its parent folder\n",
        "* Access current directory with os.getcwd()"
      ]
    },
    {
      "cell_type": "code",
      "execution_count": 3,
      "metadata": {},
      "outputs": [
        {
          "data": {
            "text/plain": [
              "'/workspaces/ML-maternal-health-risk/jupyter_notebooks'"
            ]
          },
          "execution_count": 3,
          "metadata": {},
          "output_type": "execute_result"
        }
      ],
      "source": [
        "current_dir = os.getcwd()\n",
        "current_dir"
      ]
    },
    {
      "cell_type": "markdown",
      "metadata": {},
      "source": [
        "Make the parent of the current directory the new current directory, and confirm new current directory\n",
        "* os.path.dirname() gets the parent directory\n",
        "* os.chir() defines the new current directory\n",
        "* os.getcwd() get the current directory"
      ]
    },
    {
      "cell_type": "code",
      "execution_count": 4,
      "metadata": {},
      "outputs": [
        {
          "name": "stdout",
          "output_type": "stream",
          "text": [
            "New current directory set to /workspaces/ML-maternal-health-risk.\n"
          ]
        }
      ],
      "source": [
        "os.chdir(os.path.dirname(current_dir))\n",
        "current_dir = os.getcwd()\n",
        "print(f\"New current directory set to {current_dir}.\")"
      ]
    },
    {
      "cell_type": "markdown",
      "metadata": {
        "id": "-mavJ8DibrcQ"
      },
      "source": [
        "# Load Data"
      ]
    },
    {
      "cell_type": "code",
      "execution_count": 5,
      "metadata": {},
      "outputs": [
        {
          "data": {
            "text/html": [
              "<div>\n",
              "<style scoped>\n",
              "    .dataframe tbody tr th:only-of-type {\n",
              "        vertical-align: middle;\n",
              "    }\n",
              "\n",
              "    .dataframe tbody tr th {\n",
              "        vertical-align: top;\n",
              "    }\n",
              "\n",
              "    .dataframe thead th {\n",
              "        text-align: right;\n",
              "    }\n",
              "</style>\n",
              "<table border=\"1\" class=\"dataframe\">\n",
              "  <thead>\n",
              "    <tr style=\"text-align: right;\">\n",
              "      <th></th>\n",
              "      <th>Age</th>\n",
              "      <th>SystolicBP</th>\n",
              "      <th>DiastolicBP</th>\n",
              "      <th>BloodSugar</th>\n",
              "      <th>BodyTemp</th>\n",
              "      <th>HeartRate</th>\n",
              "      <th>RiskLevel</th>\n",
              "    </tr>\n",
              "  </thead>\n",
              "  <tbody>\n",
              "    <tr>\n",
              "      <th>0</th>\n",
              "      <td>25</td>\n",
              "      <td>130</td>\n",
              "      <td>80</td>\n",
              "      <td>15.0</td>\n",
              "      <td>36.7</td>\n",
              "      <td>86</td>\n",
              "      <td>2</td>\n",
              "    </tr>\n",
              "    <tr>\n",
              "      <th>1</th>\n",
              "      <td>35</td>\n",
              "      <td>140</td>\n",
              "      <td>90</td>\n",
              "      <td>13.0</td>\n",
              "      <td>36.7</td>\n",
              "      <td>70</td>\n",
              "      <td>2</td>\n",
              "    </tr>\n",
              "    <tr>\n",
              "      <th>2</th>\n",
              "      <td>29</td>\n",
              "      <td>90</td>\n",
              "      <td>70</td>\n",
              "      <td>8.0</td>\n",
              "      <td>37.8</td>\n",
              "      <td>80</td>\n",
              "      <td>2</td>\n",
              "    </tr>\n",
              "    <tr>\n",
              "      <th>3</th>\n",
              "      <td>30</td>\n",
              "      <td>140</td>\n",
              "      <td>85</td>\n",
              "      <td>7.0</td>\n",
              "      <td>36.7</td>\n",
              "      <td>70</td>\n",
              "      <td>2</td>\n",
              "    </tr>\n",
              "    <tr>\n",
              "      <th>4</th>\n",
              "      <td>35</td>\n",
              "      <td>120</td>\n",
              "      <td>60</td>\n",
              "      <td>6.1</td>\n",
              "      <td>36.7</td>\n",
              "      <td>76</td>\n",
              "      <td>0</td>\n",
              "    </tr>\n",
              "  </tbody>\n",
              "</table>\n",
              "</div>"
            ],
            "text/plain": [
              "   Age  SystolicBP  DiastolicBP  BloodSugar  BodyTemp  HeartRate  RiskLevel\n",
              "0   25         130           80        15.0      36.7         86          2\n",
              "1   35         140           90        13.0      36.7         70          2\n",
              "2   29          90           70         8.0      37.8         80          2\n",
              "3   30         140           85         7.0      36.7         70          2\n",
              "4   35         120           60         6.1      36.7         76          0"
            ]
          },
          "execution_count": 5,
          "metadata": {},
          "output_type": "execute_result"
        }
      ],
      "source": [
        "df = pd.read_csv('outputs/datasets/collection/maternal-health-risk-dataset.csv')\n",
        "df.head()"
      ]
    },
    {
      "cell_type": "markdown",
      "metadata": {
        "id": "ZY3l0-AxO93d"
      },
      "source": [
        "---"
      ]
    },
    {
      "cell_type": "markdown",
      "metadata": {
        "id": "uFQo3ycuO-v6"
      },
      "source": [
        "# Data Exploration"
      ]
    },
    {
      "cell_type": "markdown",
      "metadata": {},
      "source": [
        "To help us decide which steps to take in the data cleaning process, let us review the data and its statistical summary of the data again."
      ]
    },
    {
      "cell_type": "code",
      "execution_count": 6,
      "metadata": {},
      "outputs": [
        {
          "data": {
            "text/html": [
              "<div>\n",
              "<style scoped>\n",
              "    .dataframe tbody tr th:only-of-type {\n",
              "        vertical-align: middle;\n",
              "    }\n",
              "\n",
              "    .dataframe tbody tr th {\n",
              "        vertical-align: top;\n",
              "    }\n",
              "\n",
              "    .dataframe thead th {\n",
              "        text-align: right;\n",
              "    }\n",
              "</style>\n",
              "<table border=\"1\" class=\"dataframe\">\n",
              "  <thead>\n",
              "    <tr style=\"text-align: right;\">\n",
              "      <th></th>\n",
              "      <th>Age</th>\n",
              "      <th>SystolicBP</th>\n",
              "      <th>DiastolicBP</th>\n",
              "      <th>BloodSugar</th>\n",
              "      <th>BodyTemp</th>\n",
              "      <th>HeartRate</th>\n",
              "      <th>RiskLevel</th>\n",
              "    </tr>\n",
              "  </thead>\n",
              "  <tbody>\n",
              "    <tr>\n",
              "      <th>0</th>\n",
              "      <td>25</td>\n",
              "      <td>130</td>\n",
              "      <td>80</td>\n",
              "      <td>15.0</td>\n",
              "      <td>36.7</td>\n",
              "      <td>86</td>\n",
              "      <td>2</td>\n",
              "    </tr>\n",
              "    <tr>\n",
              "      <th>1</th>\n",
              "      <td>35</td>\n",
              "      <td>140</td>\n",
              "      <td>90</td>\n",
              "      <td>13.0</td>\n",
              "      <td>36.7</td>\n",
              "      <td>70</td>\n",
              "      <td>2</td>\n",
              "    </tr>\n",
              "    <tr>\n",
              "      <th>2</th>\n",
              "      <td>29</td>\n",
              "      <td>90</td>\n",
              "      <td>70</td>\n",
              "      <td>8.0</td>\n",
              "      <td>37.8</td>\n",
              "      <td>80</td>\n",
              "      <td>2</td>\n",
              "    </tr>\n",
              "    <tr>\n",
              "      <th>3</th>\n",
              "      <td>30</td>\n",
              "      <td>140</td>\n",
              "      <td>85</td>\n",
              "      <td>7.0</td>\n",
              "      <td>36.7</td>\n",
              "      <td>70</td>\n",
              "      <td>2</td>\n",
              "    </tr>\n",
              "    <tr>\n",
              "      <th>4</th>\n",
              "      <td>35</td>\n",
              "      <td>120</td>\n",
              "      <td>60</td>\n",
              "      <td>6.1</td>\n",
              "      <td>36.7</td>\n",
              "      <td>76</td>\n",
              "      <td>0</td>\n",
              "    </tr>\n",
              "  </tbody>\n",
              "</table>\n",
              "</div>"
            ],
            "text/plain": [
              "   Age  SystolicBP  DiastolicBP  BloodSugar  BodyTemp  HeartRate  RiskLevel\n",
              "0   25         130           80        15.0      36.7         86          2\n",
              "1   35         140           90        13.0      36.7         70          2\n",
              "2   29          90           70         8.0      37.8         80          2\n",
              "3   30         140           85         7.0      36.7         70          2\n",
              "4   35         120           60         6.1      36.7         76          0"
            ]
          },
          "execution_count": 6,
          "metadata": {},
          "output_type": "execute_result"
        }
      ],
      "source": [
        "df.head()"
      ]
    },
    {
      "cell_type": "code",
      "execution_count": 7,
      "metadata": {},
      "outputs": [
        {
          "data": {
            "text/html": [
              "<div>\n",
              "<style scoped>\n",
              "    .dataframe tbody tr th:only-of-type {\n",
              "        vertical-align: middle;\n",
              "    }\n",
              "\n",
              "    .dataframe tbody tr th {\n",
              "        vertical-align: top;\n",
              "    }\n",
              "\n",
              "    .dataframe thead th {\n",
              "        text-align: right;\n",
              "    }\n",
              "</style>\n",
              "<table border=\"1\" class=\"dataframe\">\n",
              "  <thead>\n",
              "    <tr style=\"text-align: right;\">\n",
              "      <th></th>\n",
              "      <th>Age</th>\n",
              "      <th>SystolicBP</th>\n",
              "      <th>DiastolicBP</th>\n",
              "      <th>BloodSugar</th>\n",
              "      <th>BodyTemp</th>\n",
              "      <th>HeartRate</th>\n",
              "      <th>RiskLevel</th>\n",
              "    </tr>\n",
              "  </thead>\n",
              "  <tbody>\n",
              "    <tr>\n",
              "      <th>1009</th>\n",
              "      <td>22</td>\n",
              "      <td>120</td>\n",
              "      <td>60</td>\n",
              "      <td>15.0</td>\n",
              "      <td>36.7</td>\n",
              "      <td>80</td>\n",
              "      <td>2</td>\n",
              "    </tr>\n",
              "    <tr>\n",
              "      <th>1010</th>\n",
              "      <td>55</td>\n",
              "      <td>120</td>\n",
              "      <td>90</td>\n",
              "      <td>18.0</td>\n",
              "      <td>36.7</td>\n",
              "      <td>60</td>\n",
              "      <td>2</td>\n",
              "    </tr>\n",
              "    <tr>\n",
              "      <th>1011</th>\n",
              "      <td>35</td>\n",
              "      <td>85</td>\n",
              "      <td>60</td>\n",
              "      <td>19.0</td>\n",
              "      <td>36.7</td>\n",
              "      <td>86</td>\n",
              "      <td>2</td>\n",
              "    </tr>\n",
              "    <tr>\n",
              "      <th>1012</th>\n",
              "      <td>43</td>\n",
              "      <td>120</td>\n",
              "      <td>90</td>\n",
              "      <td>18.0</td>\n",
              "      <td>36.7</td>\n",
              "      <td>70</td>\n",
              "      <td>2</td>\n",
              "    </tr>\n",
              "    <tr>\n",
              "      <th>1013</th>\n",
              "      <td>32</td>\n",
              "      <td>120</td>\n",
              "      <td>65</td>\n",
              "      <td>6.0</td>\n",
              "      <td>38.3</td>\n",
              "      <td>76</td>\n",
              "      <td>1</td>\n",
              "    </tr>\n",
              "  </tbody>\n",
              "</table>\n",
              "</div>"
            ],
            "text/plain": [
              "      Age  SystolicBP  DiastolicBP  BloodSugar  BodyTemp  HeartRate  RiskLevel\n",
              "1009   22         120           60        15.0      36.7         80          2\n",
              "1010   55         120           90        18.0      36.7         60          2\n",
              "1011   35          85           60        19.0      36.7         86          2\n",
              "1012   43         120           90        18.0      36.7         70          2\n",
              "1013   32         120           65         6.0      38.3         76          1"
            ]
          },
          "execution_count": 7,
          "metadata": {},
          "output_type": "execute_result"
        }
      ],
      "source": [
        "df.tail()"
      ]
    },
    {
      "cell_type": "code",
      "execution_count": 8,
      "metadata": {},
      "outputs": [
        {
          "data": {
            "text/html": [
              "<div>\n",
              "<style scoped>\n",
              "    .dataframe tbody tr th:only-of-type {\n",
              "        vertical-align: middle;\n",
              "    }\n",
              "\n",
              "    .dataframe tbody tr th {\n",
              "        vertical-align: top;\n",
              "    }\n",
              "\n",
              "    .dataframe thead th {\n",
              "        text-align: right;\n",
              "    }\n",
              "</style>\n",
              "<table border=\"1\" class=\"dataframe\">\n",
              "  <thead>\n",
              "    <tr style=\"text-align: right;\">\n",
              "      <th></th>\n",
              "      <th>Age</th>\n",
              "      <th>SystolicBP</th>\n",
              "      <th>DiastolicBP</th>\n",
              "      <th>BloodSugar</th>\n",
              "      <th>BodyTemp</th>\n",
              "      <th>HeartRate</th>\n",
              "      <th>RiskLevel</th>\n",
              "    </tr>\n",
              "  </thead>\n",
              "  <tbody>\n",
              "    <tr>\n",
              "      <th>count</th>\n",
              "      <td>1014.000000</td>\n",
              "      <td>1014.000000</td>\n",
              "      <td>1014.000000</td>\n",
              "      <td>1014.000000</td>\n",
              "      <td>1014.000000</td>\n",
              "      <td>1014.000000</td>\n",
              "      <td>1014.000000</td>\n",
              "    </tr>\n",
              "    <tr>\n",
              "      <th>mean</th>\n",
              "      <td>29.871795</td>\n",
              "      <td>113.198225</td>\n",
              "      <td>76.460552</td>\n",
              "      <td>8.725986</td>\n",
              "      <td>37.059763</td>\n",
              "      <td>74.301775</td>\n",
              "      <td>0.867850</td>\n",
              "    </tr>\n",
              "    <tr>\n",
              "      <th>std</th>\n",
              "      <td>13.474386</td>\n",
              "      <td>18.403913</td>\n",
              "      <td>13.885796</td>\n",
              "      <td>3.293532</td>\n",
              "      <td>0.743991</td>\n",
              "      <td>8.088702</td>\n",
              "      <td>0.807353</td>\n",
              "    </tr>\n",
              "    <tr>\n",
              "      <th>min</th>\n",
              "      <td>10.000000</td>\n",
              "      <td>70.000000</td>\n",
              "      <td>49.000000</td>\n",
              "      <td>6.000000</td>\n",
              "      <td>36.700000</td>\n",
              "      <td>7.000000</td>\n",
              "      <td>0.000000</td>\n",
              "    </tr>\n",
              "    <tr>\n",
              "      <th>25%</th>\n",
              "      <td>19.000000</td>\n",
              "      <td>100.000000</td>\n",
              "      <td>65.000000</td>\n",
              "      <td>6.900000</td>\n",
              "      <td>36.700000</td>\n",
              "      <td>70.000000</td>\n",
              "      <td>0.000000</td>\n",
              "    </tr>\n",
              "    <tr>\n",
              "      <th>50%</th>\n",
              "      <td>26.000000</td>\n",
              "      <td>120.000000</td>\n",
              "      <td>80.000000</td>\n",
              "      <td>7.500000</td>\n",
              "      <td>36.700000</td>\n",
              "      <td>76.000000</td>\n",
              "      <td>1.000000</td>\n",
              "    </tr>\n",
              "    <tr>\n",
              "      <th>75%</th>\n",
              "      <td>39.000000</td>\n",
              "      <td>120.000000</td>\n",
              "      <td>90.000000</td>\n",
              "      <td>8.000000</td>\n",
              "      <td>36.700000</td>\n",
              "      <td>80.000000</td>\n",
              "      <td>2.000000</td>\n",
              "    </tr>\n",
              "    <tr>\n",
              "      <th>max</th>\n",
              "      <td>70.000000</td>\n",
              "      <td>160.000000</td>\n",
              "      <td>100.000000</td>\n",
              "      <td>19.000000</td>\n",
              "      <td>39.400000</td>\n",
              "      <td>90.000000</td>\n",
              "      <td>2.000000</td>\n",
              "    </tr>\n",
              "  </tbody>\n",
              "</table>\n",
              "</div>"
            ],
            "text/plain": [
              "               Age   SystolicBP  DiastolicBP   BloodSugar     BodyTemp  \\\n",
              "count  1014.000000  1014.000000  1014.000000  1014.000000  1014.000000   \n",
              "mean     29.871795   113.198225    76.460552     8.725986    37.059763   \n",
              "std      13.474386    18.403913    13.885796     3.293532     0.743991   \n",
              "min      10.000000    70.000000    49.000000     6.000000    36.700000   \n",
              "25%      19.000000   100.000000    65.000000     6.900000    36.700000   \n",
              "50%      26.000000   120.000000    80.000000     7.500000    36.700000   \n",
              "75%      39.000000   120.000000    90.000000     8.000000    36.700000   \n",
              "max      70.000000   160.000000   100.000000    19.000000    39.400000   \n",
              "\n",
              "         HeartRate    RiskLevel  \n",
              "count  1014.000000  1014.000000  \n",
              "mean     74.301775     0.867850  \n",
              "std       8.088702     0.807353  \n",
              "min       7.000000     0.000000  \n",
              "25%      70.000000     0.000000  \n",
              "50%      76.000000     1.000000  \n",
              "75%      80.000000     2.000000  \n",
              "max      90.000000     2.000000  "
            ]
          },
          "execution_count": 8,
          "metadata": {},
          "output_type": "execute_result"
        }
      ],
      "source": [
        "df.describe()"
      ]
    },
    {
      "cell_type": "code",
      "execution_count": 9,
      "metadata": {},
      "outputs": [
        {
          "data": {
            "text/plain": [
              "Age            0\n",
              "SystolicBP     0\n",
              "DiastolicBP    0\n",
              "BloodSugar     0\n",
              "BodyTemp       0\n",
              "HeartRate      0\n",
              "RiskLevel      0\n",
              "dtype: int64"
            ]
          },
          "execution_count": 9,
          "metadata": {},
          "output_type": "execute_result"
        }
      ],
      "source": [
        "df.isna().sum()"
      ]
    },
    {
      "cell_type": "markdown",
      "metadata": {},
      "source": [
        "### Summary:\n",
        "\n",
        "* There is no missing data\n",
        "* The outliers were discussed in the 02-MaternalHealthRiskStudyA.ipynb notebook and we came to the conclusion to remove one extreme value in the age and two in the heartrate columns.\n",
        "* After taking care of the outliers we will conduct a more detailed correlation and PPA study."
      ]
    },
    {
      "cell_type": "markdown",
      "metadata": {},
      "source": [
        "---"
      ]
    },
    {
      "cell_type": "markdown",
      "metadata": {},
      "source": [
        "# Outliers\n",
        "\n",
        "In this section we will remove the two outliers we found in the age and in the heartrate columns, that seem to be erronous entries into the database.\n",
        "\n",
        "Let us recall, by visualising the two features in box plots once again."
      ]
    },
    {
      "cell_type": "code",
      "execution_count": 22,
      "metadata": {},
      "outputs": [
        {
          "data": {
            "image/png": "[encoded data removed]",
            "text/plain": [
              "<Figure size 300x300 with 1 Axes>"
            ]
          },
          "metadata": {},
          "output_type": "display_data"
        },
        {
          "data": {
            "image/png": "[encoded data removed]",
            "text/plain": [
              "<Figure size 300x300 with 1 Axes>"
            ]
          },
          "metadata": {},
          "output_type": "display_data"
        }
      ],
      "source": [
        "for var in df.filter([\"Age\", \"HeartRate\"]):\n",
        "    plt.figure(figsize=(3,3))\n",
        "    sns.boxplot(data=df[var])\n",
        "    plt.title(f\"{var} Box Plot\", fontsize=15, y=1.05)\n",
        "    plt.show()"
      ]
    },
    {
      "cell_type": "markdown",
      "metadata": {},
      "source": [
        "Compute the range limits where outliers start for the age and heartrate columns."
      ]
    },
    {
      "cell_type": "code",
      "execution_count": 11,
      "metadata": {},
      "outputs": [
        {
          "name": "stdout",
          "output_type": "stream",
          "text": [
            "The upper limit for age is: 69.0, the lower limit for heartrate is: 55.0\n"
          ]
        }
      ],
      "source": [
        "IQR_age = df[\"Age\"].quantile(q=0.75) - df[\"Age\"].quantile(q=0.25)\n",
        "outlier_age = df[\"Age\"].quantile(q=0.75) + 1.5 * IQR_age\n",
        "\n",
        "IQR_hr = df[\"HeartRate\"].quantile(q=0.75) - df[\"HeartRate\"].quantile(q=0.25)\n",
        "outlier_hr = df[\"HeartRate\"].quantile(q=0.25) - 1.5 * IQR_hr\n",
        "\n",
        "print(f\"The upper limit for age is: {outlier_age}, the lower limit for heartrate is: {outlier_hr}\") "
      ]
    },
    {
      "cell_type": "code",
      "execution_count": 12,
      "metadata": {},
      "outputs": [
        {
          "data": {
            "text/html": [
              "<div>\n",
              "<style scoped>\n",
              "    .dataframe tbody tr th:only-of-type {\n",
              "        vertical-align: middle;\n",
              "    }\n",
              "\n",
              "    .dataframe tbody tr th {\n",
              "        vertical-align: top;\n",
              "    }\n",
              "\n",
              "    .dataframe thead th {\n",
              "        text-align: right;\n",
              "    }\n",
              "</style>\n",
              "<table border=\"1\" class=\"dataframe\">\n",
              "  <thead>\n",
              "    <tr style=\"text-align: right;\">\n",
              "      <th></th>\n",
              "      <th>Age</th>\n",
              "      <th>SystolicBP</th>\n",
              "      <th>DiastolicBP</th>\n",
              "      <th>BloodSugar</th>\n",
              "      <th>BodyTemp</th>\n",
              "      <th>HeartRate</th>\n",
              "      <th>RiskLevel</th>\n",
              "    </tr>\n",
              "  </thead>\n",
              "  <tbody>\n",
              "    <tr>\n",
              "      <th>338</th>\n",
              "      <td>70</td>\n",
              "      <td>85</td>\n",
              "      <td>60</td>\n",
              "      <td>6.9</td>\n",
              "      <td>38.9</td>\n",
              "      <td>70</td>\n",
              "      <td>0</td>\n",
              "    </tr>\n",
              "    <tr>\n",
              "      <th>499</th>\n",
              "      <td>16</td>\n",
              "      <td>120</td>\n",
              "      <td>75</td>\n",
              "      <td>7.9</td>\n",
              "      <td>36.7</td>\n",
              "      <td>7</td>\n",
              "      <td>0</td>\n",
              "    </tr>\n",
              "    <tr>\n",
              "      <th>908</th>\n",
              "      <td>16</td>\n",
              "      <td>120</td>\n",
              "      <td>75</td>\n",
              "      <td>7.9</td>\n",
              "      <td>36.7</td>\n",
              "      <td>7</td>\n",
              "      <td>0</td>\n",
              "    </tr>\n",
              "  </tbody>\n",
              "</table>\n",
              "</div>"
            ],
            "text/plain": [
              "     Age  SystolicBP  DiastolicBP  BloodSugar  BodyTemp  HeartRate  RiskLevel\n",
              "338   70          85           60         6.9      38.9         70          0\n",
              "499   16         120           75         7.9      36.7          7          0\n",
              "908   16         120           75         7.9      36.7          7          0"
            ]
          },
          "execution_count": 12,
          "metadata": {},
          "output_type": "execute_result"
        }
      ],
      "source": [
        "df.query(f\"Age >= {outlier_age} | HeartRate < {outlier_hr}\")"
      ]
    },
    {
      "cell_type": "code",
      "execution_count": 13,
      "metadata": {},
      "outputs": [
        {
          "data": {
            "text/plain": [
              "(1014, 7)"
            ]
          },
          "execution_count": 13,
          "metadata": {},
          "output_type": "execute_result"
        }
      ],
      "source": [
        "indices_to_drop = df.query(f\"Age >= {outlier_age} | HeartRate < {outlier_hr}\").index.to_list()\n",
        "df.shape"
      ]
    },
    {
      "cell_type": "code",
      "execution_count": 14,
      "metadata": {},
      "outputs": [
        {
          "data": {
            "text/plain": [
              "(1011, 7)"
            ]
          },
          "execution_count": 14,
          "metadata": {},
          "output_type": "execute_result"
        }
      ],
      "source": [
        "df.drop(indices_to_drop).shape"
      ]
    },
    {
      "cell_type": "markdown",
      "metadata": {},
      "source": [
        "**Imortant!** Now drop the three rows in the dataframe:"
      ]
    },
    {
      "cell_type": "code",
      "execution_count": 15,
      "metadata": {},
      "outputs": [],
      "source": [
        "df.drop(indices_to_drop, inplace=True)"
      ]
    },
    {
      "cell_type": "code",
      "execution_count": 17,
      "metadata": {},
      "outputs": [
        {
          "data": {
            "text/plain": [
              "(1011, 7)"
            ]
          },
          "execution_count": 17,
          "metadata": {},
          "output_type": "execute_result"
        }
      ],
      "source": [
        "df.shape"
      ]
    },
    {
      "cell_type": "markdown",
      "metadata": {},
      "source": [
        "---"
      ]
    },
    {
      "cell_type": "markdown",
      "metadata": {},
      "source": [
        "# Correlation and PPS Analysis\n",
        "\n",
        "In this section we conduct a more detailed correlation study and in particular investigate the dataset for collinearity. This means, we look for features that are correlated between themselves and would thus decrease model performance. We also investigate the predictive power score to see which variables have the most predictive power over the target or between themselves.\n",
        "\n",
        "Note that in the correlation study in the MaternalHealthRiskStudy notebooks we did not consider Pearson correlation, since it is only useful for continuous variables and our target is categorical.\n",
        "\n",
        "Here however, we consider both Spearman and Pearson correlation, since we also investigate the correlation between the features and those are continuous."
      ]
    },
    {
      "cell_type": "code",
      "execution_count": 18,
      "metadata": {},
      "outputs": [],
      "source": [
        "# The code for this function was taken from the Code Institute Churnometer Walkthrough project and was adapted for the case at hand\n",
        "\n",
        "def heatmap_corr(df, threshold, figsize=(20, 12), font_annot=8):\n",
        "    if len(df.columns) > 1:\n",
        "        mask = np.zeros_like(df, dtype=bool)\n",
        "        mask[np.triu_indices_from(mask)] = True\n",
        "        mask[abs(df) < threshold] = True\n",
        "\n",
        "        fig, axes = plt.subplots(figsize=figsize)\n",
        "        sns.heatmap(df, annot=True, xticklabels=True, yticklabels=True,\n",
        "                    mask=mask, cmap='viridis', annot_kws={\"size\": font_annot}, ax=axes,\n",
        "                    linewidth=0.5\n",
        "                    )\n",
        "        axes.set_yticklabels(df.columns, rotation=0)\n",
        "        plt.ylim(len(df.columns), 0)\n",
        "        plt.show()\n",
        "\n",
        "\n",
        "def heatmap_pps(df, threshold, figsize=(20, 12), font_annot=8):\n",
        "    if len(df.columns) > 1:\n",
        "        mask = np.zeros_like(df, dtype=bool)\n",
        "        mask[abs(df) < threshold] = True\n",
        "        fig, ax = plt.subplots(figsize=figsize)\n",
        "        ax = sns.heatmap(df, annot=True, xticklabels=True, yticklabels=True,\n",
        "                         mask=mask, cmap='rocket_r', annot_kws={\"size\": font_annot},\n",
        "                         linewidth=0.05, linecolor='grey')\n",
        "        plt.ylim(len(df.columns), 0)\n",
        "        plt.show()\n",
        "\n",
        "\n",
        "def CalculateCorrAndPPS(df):\n",
        "    df_corr_spearman = df.corr(method=\"spearman\", numeric_only=True)\n",
        "    df_corr_pearson = df.corr(method=\"pearson\", numeric_only=True)\n",
        "\n",
        "    pps_matrix_raw = pps.matrix(df)\n",
        "    pps_matrix = pps_matrix_raw.filter(['x', 'y', 'ppscore']).pivot(index='y', columns='x', values='ppscore')\n",
        "    pps_score_stats = pps_matrix_raw.query(\"ppscore < 1\").filter(['ppscore']).describe().T\n",
        "    print(\"PPS threshold - check PPS score IQR to decide threshold for heatmap \\n\")\n",
        "    print(pps_score_stats.round(3))\n",
        "\n",
        "    return df_corr_pearson, df_corr_spearman, pps_matrix\n",
        "\n",
        "\n",
        "def DisplayCorrAndPPS(df_corr_pearson, df_corr_spearman, pps_matrix, CorrThreshold, PPS_Threshold,\n",
        "                      figsize=(20, 12), font_annot=8):\n",
        "\n",
        "    print(\"\\n\")\n",
        "    print(\"* Analyse how the target variable for your ML models are correlated with other variables (features and target)\")\n",
        "    print(\"* Analyse multi-colinearity, that is, how the features are correlated among themselves\")\n",
        "\n",
        "    print(\"\\n\")\n",
        "    print(\"*** Heatmap: Spearman Correlation ***\")\n",
        "    print(\"It evaluates monotonic relationship \\n\")\n",
        "    heatmap_corr(df=df_corr_spearman, threshold=CorrThreshold, figsize=figsize, font_annot=font_annot)\n",
        "\n",
        "    print(\"\\n\")\n",
        "    print(\"*** Heatmap: Pearson Correlation ***\")\n",
        "    print(\"It evaluates the linear relationship between two continuous variables \\n\")\n",
        "    heatmap_corr(df=df_corr_pearson, threshold=CorrThreshold, figsize=figsize, font_annot=font_annot)\n",
        "\n",
        "    print(\"\\n\")\n",
        "    print(\"*** Heatmap: Power Predictive Score (PPS) ***\")\n",
        "    print(f\"PPS detects linear or non-linear relationships between two columns.\\n\"\n",
        "          f\"The score ranges from 0 (no predictive power) to 1 (perfect predictive power) \\n\")\n",
        "    heatmap_pps(df=pps_matrix, threshold=PPS_Threshold, figsize=figsize, font_annot=font_annot)\n"
      ]
    },
    {
      "cell_type": "code",
      "execution_count": 19,
      "metadata": {},
      "outputs": [
        {
          "name": "stdout",
          "output_type": "stream",
          "text": [
            "PPS threshold - check PPS score IQR to decide threshold for heatmap \n",
            "\n",
            "         count   mean    std  min  25%    50%    75%    max\n",
            "ppscore   42.0  0.096  0.121  0.0  0.0  0.062  0.132  0.522\n"
          ]
        }
      ],
      "source": [
        "df_corr_pearson, df_corr_spearman, pps_matrix = CalculateCorrAndPPS(df)"
      ]
    },
    {
      "cell_type": "code",
      "execution_count": 20,
      "metadata": {},
      "outputs": [
        {
          "data": {
            "text/html": [
              "<div>\n",
              "<style scoped>\n",
              "    .dataframe tbody tr th:only-of-type {\n",
              "        vertical-align: middle;\n",
              "    }\n",
              "\n",
              "    .dataframe tbody tr th {\n",
              "        vertical-align: top;\n",
              "    }\n",
              "\n",
              "    .dataframe thead th {\n",
              "        text-align: right;\n",
              "    }\n",
              "</style>\n",
              "<table border=\"1\" class=\"dataframe\">\n",
              "  <thead>\n",
              "    <tr style=\"text-align: right;\">\n",
              "      <th>x</th>\n",
              "      <th>Age</th>\n",
              "      <th>BloodSugar</th>\n",
              "      <th>BodyTemp</th>\n",
              "      <th>DiastolicBP</th>\n",
              "      <th>HeartRate</th>\n",
              "      <th>RiskLevel</th>\n",
              "      <th>SystolicBP</th>\n",
              "    </tr>\n",
              "    <tr>\n",
              "      <th>y</th>\n",
              "      <th></th>\n",
              "      <th></th>\n",
              "      <th></th>\n",
              "      <th></th>\n",
              "      <th></th>\n",
              "      <th></th>\n",
              "      <th></th>\n",
              "    </tr>\n",
              "  </thead>\n",
              "  <tbody>\n",
              "    <tr>\n",
              "      <th>Age</th>\n",
              "      <td>1.000000</td>\n",
              "      <td>0.196733</td>\n",
              "      <td>0.015574</td>\n",
              "      <td>0.116254</td>\n",
              "      <td>0.071195</td>\n",
              "      <td>0.052009</td>\n",
              "      <td>0.110549</td>\n",
              "    </tr>\n",
              "    <tr>\n",
              "      <th>BloodSugar</th>\n",
              "      <td>0.131588</td>\n",
              "      <td>1.000000</td>\n",
              "      <td>0.000000</td>\n",
              "      <td>0.000000</td>\n",
              "      <td>0.000000</td>\n",
              "      <td>0.131262</td>\n",
              "      <td>0.041356</td>\n",
              "    </tr>\n",
              "    <tr>\n",
              "      <th>BodyTemp</th>\n",
              "      <td>0.139708</td>\n",
              "      <td>0.000000</td>\n",
              "      <td>1.000000</td>\n",
              "      <td>0.000000</td>\n",
              "      <td>0.000000</td>\n",
              "      <td>0.000000</td>\n",
              "      <td>0.000000</td>\n",
              "    </tr>\n",
              "    <tr>\n",
              "      <th>DiastolicBP</th>\n",
              "      <td>0.308552</td>\n",
              "      <td>0.126219</td>\n",
              "      <td>0.028361</td>\n",
              "      <td>1.000000</td>\n",
              "      <td>0.121509</td>\n",
              "      <td>0.031491</td>\n",
              "      <td>0.521774</td>\n",
              "    </tr>\n",
              "    <tr>\n",
              "      <th>HeartRate</th>\n",
              "      <td>0.250791</td>\n",
              "      <td>0.081647</td>\n",
              "      <td>0.004647</td>\n",
              "      <td>0.072196</td>\n",
              "      <td>1.000000</td>\n",
              "      <td>0.000000</td>\n",
              "      <td>0.081400</td>\n",
              "    </tr>\n",
              "    <tr>\n",
              "      <th>RiskLevel</th>\n",
              "      <td>0.143374</td>\n",
              "      <td>0.258264</td>\n",
              "      <td>0.000000</td>\n",
              "      <td>0.105215</td>\n",
              "      <td>0.000000</td>\n",
              "      <td>1.000000</td>\n",
              "      <td>0.230973</td>\n",
              "    </tr>\n",
              "    <tr>\n",
              "      <th>SystolicBP</th>\n",
              "      <td>0.161053</td>\n",
              "      <td>0.002135</td>\n",
              "      <td>0.000000</td>\n",
              "      <td>0.448236</td>\n",
              "      <td>0.041020</td>\n",
              "      <td>0.000000</td>\n",
              "      <td>1.000000</td>\n",
              "    </tr>\n",
              "  </tbody>\n",
              "</table>\n",
              "</div>"
            ],
            "text/plain": [
              "x                 Age  BloodSugar  BodyTemp  DiastolicBP  HeartRate  \\\n",
              "y                                                                     \n",
              "Age          1.000000    0.196733  0.015574     0.116254   0.071195   \n",
              "BloodSugar   0.131588    1.000000  0.000000     0.000000   0.000000   \n",
              "BodyTemp     0.139708    0.000000  1.000000     0.000000   0.000000   \n",
              "DiastolicBP  0.308552    0.126219  0.028361     1.000000   0.121509   \n",
              "HeartRate    0.250791    0.081647  0.004647     0.072196   1.000000   \n",
              "RiskLevel    0.143374    0.258264  0.000000     0.105215   0.000000   \n",
              "SystolicBP   0.161053    0.002135  0.000000     0.448236   0.041020   \n",
              "\n",
              "x            RiskLevel  SystolicBP  \n",
              "y                                   \n",
              "Age           0.052009    0.110549  \n",
              "BloodSugar    0.131262    0.041356  \n",
              "BodyTemp      0.000000    0.000000  \n",
              "DiastolicBP   0.031491    0.521774  \n",
              "HeartRate     0.000000    0.081400  \n",
              "RiskLevel     1.000000    0.230973  \n",
              "SystolicBP    0.000000    1.000000  "
            ]
          },
          "execution_count": 20,
          "metadata": {},
          "output_type": "execute_result"
        }
      ],
      "source": [
        "pps_matrix"
      ]
    },
    {
      "cell_type": "code",
      "execution_count": 21,
      "metadata": {},
      "outputs": [
        {
          "name": "stdout",
          "output_type": "stream",
          "text": [
            "\n",
            "\n",
            "* Analyse how the target variable for your ML models are correlated with other variables (features and target)\n",
            "* Analyse multi-colinearity, that is, how the features are correlated among themselves\n",
            "\n",
            "\n",
            "*** Heatmap: Spearman Correlation ***\n",
            "It evaluates monotonic relationship \n",
            "\n"
          ]
        },
        {
          "data": {
            "image/png": "[encoded data removed]",
            "text/plain": [
              "<Figure size 1200x1000 with 2 Axes>"
            ]
          },
          "metadata": {},
          "output_type": "display_data"
        },
        {
          "name": "stdout",
          "output_type": "stream",
          "text": [
            "\n",
            "\n",
            "*** Heatmap: Pearson Correlation ***\n",
            "It evaluates the linear relationship between two continuous variables \n",
            "\n"
          ]
        },
        {
          "data": {
            "image/png": "[encoded data removed]",
            "text/plain": [
              "<Figure size 1200x1000 with 2 Axes>"
            ]
          },
          "metadata": {},
          "output_type": "display_data"
        },
        {
          "name": "stdout",
          "output_type": "stream",
          "text": [
            "\n",
            "\n",
            "*** Heatmap: Power Predictive Score (PPS) ***\n",
            "PPS detects linear or non-linear relationships between two columns.\n",
            "The score ranges from 0 (no predictive power) to 1 (perfect predictive power) \n",
            "\n"
          ]
        },
        {
          "data": {
            "image/png": "[encoded data removed]",
            "text/plain": [
              "<Figure size 1200x1000 with 2 Axes>"
            ]
          },
          "metadata": {},
          "output_type": "display_data"
        }
      ],
      "source": [
        "DisplayCorrAndPPS(df_corr_pearson = df_corr_pearson,\n",
        "                  df_corr_spearman = df_corr_spearman, \n",
        "                  pps_matrix = pps_matrix,\n",
        "                  CorrThreshold = 0.4, PPS_Threshold =0.2,\n",
        "                  figsize=(12,10), font_annot=10)\n"
      ]
    },
    {
      "cell_type": "markdown",
      "metadata": {},
      "source": [
        "---"
      ]
    },
    {
      "cell_type": "markdown",
      "metadata": {},
      "source": [
        "## Split into Train and Test Sets"
      ]
    },
    {
      "cell_type": "code",
      "execution_count": 23,
      "metadata": {},
      "outputs": [
        {
          "name": "stdout",
          "output_type": "stream",
          "text": [
            "TrainSet shape: (808, 7) \n",
            "TestSet shape: (203, 7)\n"
          ]
        }
      ],
      "source": [
        "\n",
        "from sklearn.model_selection import train_test_split\n",
        "TrainSet, TestSet, _, __ = train_test_split(\n",
        "                                        df,\n",
        "                                        df['RiskLevel'],\n",
        "                                        test_size=0.2,\n",
        "                                        random_state=0)\n",
        "\n",
        "print(f\"TrainSet shape: {TrainSet.shape} \\nTestSet shape: {TestSet.shape}\")"
      ]
    },
    {
      "cell_type": "markdown",
      "metadata": {},
      "source": [
        "---"
      ]
    },
    {
      "cell_type": "markdown",
      "metadata": {},
      "source": [
        "## Push Files to Repo"
      ]
    },
    {
      "cell_type": "code",
      "execution_count": null,
      "metadata": {},
      "outputs": [],
      "source": [
        "\n"
      ]
    },
    {
      "cell_type": "markdown",
      "metadata": {},
      "source": [
        "---"
      ]
    },
    {
      "cell_type": "markdown",
      "metadata": {},
      "source": [
        "# Conclusions and Next Steps\n",
        "\n"
      ]
    },
    {
      "cell_type": "markdown",
      "metadata": {},
      "source": [
        "* We removed a few outliers that seemed to be erronous entries into the database\n",
        "* We conducted a correlation and PPS analysis and decided to remove the following features:\n",
        "* We then split the cleaned dataset into train and test sets and stored them to outputs/datasets/cleaned"
      ]
    }
  ],
  "metadata": {
    "accelerator": "GPU",
    "colab": {
      "name": "Data Practitioner Jupyter Notebook.ipynb",
      "provenance": [],
      "toc_visible": true
    },
    "kernelspec": {
      "display_name": "Python 3",
      "language": "python",
      "name": "python3"
    },
    "language_info": {
      "codemirror_mode": {
        "name": "ipython",
        "version": 3
      },
      "file_extension": ".py",
      "mimetype": "text/x-python",
      "name": "python",
      "nbconvert_exporter": "python",
      "pygments_lexer": "ipython3",
      "version": "3.12.1"
    },
    "orig_nbformat": 2
  },
  "nbformat": 4,
  "nbformat_minor": 2
}
